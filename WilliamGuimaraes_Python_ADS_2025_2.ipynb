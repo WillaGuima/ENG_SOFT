{
  "nbformat": 4,
  "nbformat_minor": 0,
  "metadata": {
    "colab": {
      "provenance": [],
      "include_colab_link": true
    },
    "kernelspec": {
      "name": "python3",
      "display_name": "Python 3"
    },
    "language_info": {
      "name": "python"
    }
  },
  "cells": [
    {
      "cell_type": "markdown",
      "metadata": {
        "id": "view-in-github",
        "colab_type": "text"
      },
      "source": [
        "<a href=\"https://colab.research.google.com/github/WillaGuima/ENG_SOFT/blob/main/WilliamGuimaraes_Python_ADS_2025_2.ipynb\" target=\"_parent\"><img src=\"https://colab.research.google.com/assets/colab-badge.svg\" alt=\"Open In Colab\"/></a>"
      ]
    },
    {
      "cell_type": "markdown",
      "source": [
        "Nome: William Guimarães Barbosa\n",
        "\n",
        "Turma: ADS - Noturno\n",
        "\n",
        "Disciplina: Técnicas de Desenvolvimento de Algoritmo\n",
        "\n",
        "![Python_CC.jpg](data:image/jpeg;base64,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)\n"
      ],
      "metadata": {
        "id": "XtmnUeBZC51e"
      }
    },
    {
      "cell_type": "code",
      "source": [
        "print(\"Olá meu nome é William!\")"
      ],
      "metadata": {
        "id": "m5weqPJBGdH8"
      },
      "execution_count": null,
      "outputs": []
    },
    {
      "cell_type": "code",
      "source": [
        "#Operadores\n",
        "'''\n",
        "\n",
        "Operadores\n",
        "\n",
        "\n",
        "'''\n",
        "print()"
      ],
      "metadata": {
        "id": "f3Kd5qxmOhcJ"
      },
      "execution_count": null,
      "outputs": []
    },
    {
      "cell_type": "code",
      "source": [
        "#Operadores\n",
        "\n",
        "'''\n",
        "Como usar Python como calculadora. Abaixo será necessário informar um valor para a variável a.\n",
        "'''\n",
        "print()\n",
        "\n",
        "a=10\n",
        "y= 34\n",
        "(30*5)+a-2"
      ],
      "metadata": {
        "id": "JNFxghixPj85"
      },
      "execution_count": null,
      "outputs": []
    },
    {
      "cell_type": "code",
      "source": [
        "#divisão\n",
        "#3//10 é diferente 3/10\n",
        "'''\n",
        "//divisão por inteiro\n",
        "/ divisão\n",
        "'''\n",
        "80*0.5"
      ],
      "metadata": {
        "id": "WlxbdSWrSoBN"
      },
      "execution_count": null,
      "outputs": []
    },
    {
      "cell_type": "code",
      "source": [
        "'''\n",
        "operadores textuais\n",
        "• concatenação: + (juntar, é o & do Flowgorithm, é a (vírgula) no código em python)\n",
        "• repetição: * (multiplicar)\n",
        "'''\n",
        "\n",
        "faculdade=\"UDF\"\n",
        "print(\"Eu estudo no \", faculdade, (3*50)) #exemplo de concatenação"
      ],
      "metadata": {
        "id": "Tv5KrKgeTsQt"
      },
      "execution_count": null,
      "outputs": []
    },
    {
      "cell_type": "markdown",
      "source": [
        "Lista 1 (11/09)"
      ],
      "metadata": {
        "id": "HMBhmXyFGsA0"
      }
    },
    {
      "cell_type": "code",
      "source": [
        "\n",
        "'''\n",
        "1. Escreva um programa que apresente na tela a frase: \"Meu primeiro programa!!!\"\n",
        "'''\n",
        "print(\"Meu primeiro programa!!!\")"
      ],
      "metadata": {
        "id": "PRrSAbZBWX_l"
      },
      "execution_count": null,
      "outputs": []
    },
    {
      "cell_type": "code",
      "source": [
        "'''\n",
        "2. Escreva um programa que solicite ao usuário um número inteiro e ao final apresente na tela\n",
        "o número informado pelo usuário do programa\n",
        "'''\n",
        "numero_inteiro=int\n",
        "numero_inteiro=input(\"Digite um número inteiro:  \")\n",
        "print(\"O número digitado foi: \", numero_inteiro)"
      ],
      "metadata": {
        "id": "0nHcWpuGWnTk"
      },
      "execution_count": null,
      "outputs": []
    },
    {
      "cell_type": "code",
      "source": [
        "'''\n",
        "3. Escreva um programa que solicite ao usuário um número inteiro e ao final apresente na tela\n",
        "o número informado da seguinte forma: \"Foi informado o valor: X\"\n",
        "'''\n",
        "numero_inteiro=int\n",
        "numero_inteiro=input(\"Digite um número inteiro:  \")\n",
        "print(\"Foi informado o valor: \", numero_inteiro)"
      ],
      "metadata": {
        "id": "q8uH4sy7I8XJ"
      },
      "execution_count": null,
      "outputs": []
    },
    {
      "cell_type": "code",
      "source": [
        "'''\n",
        "4. Escreva um programa que solicite ao usuário dois números inteiros e ao final apresente na\n",
        "tela os dois números informados da seguinte forma: \"Voce informou os numeros X e Y\"\n",
        "'''\n",
        "n1=int\n",
        "n2=int\n",
        "n1=input(\"Digite um número inteiro:  \")\n",
        "n2=input(\"Digite outro número inteiro:  \")\n",
        "print(\"Voce informou os numeros \", n1, \" e \", n2)"
      ],
      "metadata": {
        "id": "Uj1ztvVoJjQ3"
      },
      "execution_count": null,
      "outputs": []
    },
    {
      "cell_type": "code",
      "source": [
        "'''\n",
        "5. Escreva um programa que solicite ao usuário um número real e ao final apresente na tela o\n",
        "número informado formatado com duas casas decimais da seguinte forma: \"Voce informou\n",
        "o numero X.YY\"\n",
        "'''\n",
        "n1=float\n",
        "n1=input(\"Digite um número real:  \")\n",
        "print(\"Voce informou o numero \", n1, \".00\")"
      ],
      "metadata": {
        "id": "-_bE3GVYKEXi"
      },
      "execution_count": null,
      "outputs": []
    },
    {
      "cell_type": "code",
      "source": [
        "'''\n",
        "6.Escreva um programa que solicite ao usuário a temperatura em graus Celsius e ao final\n",
        "apresente a temperatura correspondente em graus Farenheit. F = Celsius * 1.8 + 32\n",
        "'''\n",
        "temperatura=float\n",
        "temperatura=input(\"Digite a temperatura em graus Celsius:  \")\n",
        "print(\"A temperatura em graus Farenheit é: \", float(temperatura)*1.8+32)"
      ],
      "metadata": {
        "id": "G42KvfEoKgPq"
      },
      "execution_count": null,
      "outputs": []
    },
    {
      "cell_type": "code",
      "source": [
        "'''\n",
        "7. Escreva um programa que solicite ao usuário um número inteiro e um número real e ao final\n",
        "apresente na tela os dois números informados formatando com duas casas decimais\n",
        "somente o número real da seguinte forma: \"Voce informou os numeros N e X.YY\"\n",
        "'''\n",
        "n1=int\n",
        "n2=float\n",
        "n1=input(\"Digite um número inteiro:  \")\n",
        "n2=input(\"Digite um número real:  \")\n",
        "print(\"Voce informou os numeros \", n1, \" e \", float(n2), \".00\")"
      ],
      "metadata": {
        "id": "QKCgzHxlKxF3"
      },
      "execution_count": null,
      "outputs": []
    },
    {
      "cell_type": "code",
      "source": [
        "'''\n",
        "8. Escreva um programa que solicite ao usuário a primeira letra de seu nome e ao final\n",
        "apresente na tela a letra informada pelo usuário da seguinte forma: \"Voce digitou \"\n",
        "'''\n",
        "letra=str\n",
        "letra=input(\"Digite a primeira letra de seu nome:  \")\n",
        "print(\"Voce digitou \", letra)"
      ],
      "metadata": {
        "id": "6N7629H5K00f"
      },
      "execution_count": null,
      "outputs": []
    },
    {
      "cell_type": "code",
      "source": [
        "'''\n",
        "9. Escreva um programa que solicite ao usuário o nome de sua cor preferida e ao final\n",
        "apresente na tela a cor informada pelo usuário da seguinte forma: \"Voce gosta da cor AAA\"\n",
        "'''\n",
        "cor=str\n",
        "cor=input(\"Digite o nome de sua cor preferida:  \")\n",
        "print(\"Voce gosta da cor \", cor)"
      ],
      "metadata": {
        "id": "WsxWGTh_K9j_"
      },
      "execution_count": null,
      "outputs": []
    },
    {
      "cell_type": "code",
      "source": [
        "'''\n",
        "10. Escreva um programa que solicite ao usuário o nome de uma verdura e uma fruta de sua\n",
        "preferencia e ao final apresente na tela as informações digitadas pelo usuário da seguinte\n",
        "forma: \"Voce gosta de AAAAAAA e BBBBBBB\"\n",
        "'''\n",
        "verdura=str\n",
        "fruta=str\n",
        "verdura=input(\"Digite o nome de uma verdura:  \")\n",
        "fruta=input(\"Digite o nome de uma fruta:  \")\n",
        "print(\"Voce gosta de \", verdura, \" e \", fruta)"
      ],
      "metadata": {
        "id": "D6INowFwLExk"
      },
      "execution_count": null,
      "outputs": []
    },
    {
      "cell_type": "code",
      "source": [
        "'''\n",
        "11. Elabore um algoritmo que solicite ao usuário um número real e ao final imprima na tela o\n",
        "numero informado e na linha de baixo o dobro deste número da seguinte forma:\n",
        "Numero -> X\n",
        "Dobro deste numero -> Y\n",
        "'''\n",
        "n1=float\n",
        "n1=input(\"Digite um número real:  \")\n",
        "print(\"Numero -> \", n1)\n",
        "print(\"Dobro deste numero -> \", float(n1)*2)"
      ],
      "metadata": {
        "id": "Kx7RyX7aLLex"
      },
      "execution_count": null,
      "outputs": []
    },
    {
      "cell_type": "code",
      "source": [
        "'''\n",
        "12. Reescrever o programa anterior apresentando o quadrado e o cubo do número informado\n",
        "'''\n",
        "n1=float\n",
        "n1=input(\"Digite um número real:  \")\n",
        "print(\"Numero -> \", n1)\n",
        "print(\"Dobro deste numero -> \", float(n1)*2)\n",
        "print"
      ],
      "metadata": {
        "id": "woBKVe5tLbEe"
      },
      "execution_count": null,
      "outputs": []
    },
    {
      "cell_type": "code",
      "source": [
        "'''\n",
        "13. Escreva um programa que solicite ao usuário dois números inteiros e ao final apresente\n",
        "na tela a soma dos dois números informados da seguinte forma: \"O numeros N e X\n",
        "somados correspondem a Y\"\n",
        "'''\n",
        "n1=int\n",
        "n2=int\n",
        "n1=input(\"Digite um número inteiro:  \")\n",
        "n2=input(\"Digite outro número inteiro:  \")\n",
        "print(\"O numeros \", n1, \" e \", n2, \" somados correspondem a \", int(n1)+int(n2))"
      ],
      "metadata": {
        "id": "A6XBd2e1LoTL"
      },
      "execution_count": null,
      "outputs": []
    },
    {
      "cell_type": "code",
      "source": [
        "'''\n",
        "14. Escreva um programa que solicite ao usuário dois números reais e ao final apresente na\n",
        "tela o produto dos dois números informados da seguinte forma: \"O produto dos numeros N\n",
        "e X corresponde a Y\"\n",
        "'''\n",
        "n1=float\n",
        "n2=float\n",
        "n1=input(\"Digite um número real:  \")\n",
        "n2=input(\"Digite outro número real:  \")\n",
        "print(\"O produto dos numeros \", n1, \" e \", n2, \" corresponde a \", float(n1)*float(n2))"
      ],
      "metadata": {
        "id": "_Z1-YomGL7LR"
      },
      "execution_count": null,
      "outputs": []
    },
    {
      "cell_type": "code",
      "source": [
        "'''\n",
        "15. Refazer o programa 14 realizando as quatro operações aritméticas básicas\n",
        "'''\n",
        "n1=float\n",
        "n2=float\n",
        "n1=input(\"Digite um número real:  \")\n",
        "n2=input(\"Digite outro número real:  \")\n",
        "print(\"O produto dos numeros \", n1, \" e \", n2, \" corresponde a \", float(n1)*float(n2))\n",
        "print(\"A soma dos numeros \", n1, \" e \", n2, \" corresponde a \", float(n1)+float(n2))\n",
        "print(\"A subtração dos numeros \", n1, \" e \", n2, \" corresponde a \", float(n1)-float(n2))\n",
        "print(\"A divisão dos numeros \", n1, \" e \", n2, \" corresponde a \", float(n1)/float(n2))"
      ],
      "metadata": {
        "id": "tnZQRNaBMAHg"
      },
      "execution_count": null,
      "outputs": []
    },
    {
      "cell_type": "markdown",
      "source": [
        "Lista 2 - Estruturas Condicionais (IF, ELSE, ELIF)"
      ],
      "metadata": {
        "id": "jMyNqcI7EkZ1"
      }
    },
    {
      "cell_type": "code",
      "source": [
        "'''\n",
        "1. Elabore um programa que solicite ao usuário um número real e ao final imprima na tela se o\n",
        "número informado é maior que 10 (dez)\n",
        "'''\n",
        "n1=float((input(\"Informe um Número Real:\" )))\n",
        "if n1>10:\n",
        "    print(\"O número informado é maior que 10 (dez)\")"
      ],
      "metadata": {
        "colab": {
          "base_uri": "https://localhost:8080/"
        },
        "id": "3CsgzfZEErr1",
        "outputId": "04c4de80-fe2d-4e08-903e-dbe155583534"
      },
      "execution_count": null,
      "outputs": [
        {
          "output_type": "stream",
          "name": "stdout",
          "text": [
            "Informe um Número Real:11\n",
            "O número informado é maior que 10 (dez)\n"
          ]
        }
      ]
    },
    {
      "cell_type": "code",
      "source": [
        "'''\n",
        "2. Escreva um programa que solicite ao usuário um número real e ao final imprima na tela se\n",
        "o número informado é maior ou igual a dez ou menor que 10 (dez)\n",
        "'''\n",
        "n1=float((input(\"Informe um Número Real:\" )))\n",
        "if n1>=10:\n",
        "    print(\"O número informado é maior ou igual a 10 (dez)\")\n",
        "elif n1<10:\n",
        "    print(\"O número informado é menor que 10 (dez)\")"
      ],
      "metadata": {
        "colab": {
          "base_uri": "https://localhost:8080/"
        },
        "id": "OLTsQDSkE_92",
        "outputId": "858196ee-cb88-41c5-c1a3-5f774eb48d89"
      },
      "execution_count": null,
      "outputs": [
        {
          "output_type": "stream",
          "name": "stdout",
          "text": [
            "Informe um Número Real:9.5\n",
            "O número informado é menor que 10 (dez)\n"
          ]
        }
      ]
    },
    {
      "cell_type": "code",
      "source": [
        "'''\n",
        "3. Elabore um algoritmo que solicite ao usuário um número real e ao final imprima na tela se o\n",
        "número informado é maior que dez, se é menor que dez, ou se é igual a dez\n",
        "'''\n",
        "n1=float((input(\"Informe um Número Real:\" )))\n",
        "if n1>10:\n",
        "    print(\"O número informado é maior que 10 (dez)\")\n",
        "elif n1<10:\n",
        "    print(\"O número informado é menor que 10 (dez)\")\n",
        "elif n1==10:\n",
        "    print(\"O número informado é igual a 10 (dez)\")"
      ],
      "metadata": {
        "colab": {
          "base_uri": "https://localhost:8080/"
        },
        "id": "kuBXlFhmFIdU",
        "outputId": "da7c0199-ca80-4a1e-ae76-e7cc2d5efa1d"
      },
      "execution_count": null,
      "outputs": [
        {
          "output_type": "stream",
          "name": "stdout",
          "text": [
            "Informe um Número Real:9.5\n",
            "O número informado é menor que 10 (dez)\n"
          ]
        }
      ]
    },
    {
      "cell_type": "code",
      "source": [
        "'''\n",
        "4. Elabore um algoritmo que solicite ao usuário um número real e ao final imprima na tela se o\n",
        "número informado é positivo, negativo ou nulo (zero)\n",
        "'''\n",
        "n1=float((input(\"Informe um Número Real:\" )))\n",
        "if n1>0:\n",
        "    print(\"O número informado é positivo\")\n",
        "elif n1<0:\n",
        "    print(\"O número informado é negativo\")\n",
        "elif n1==0:\n",
        "    print(\"O número informado é nulo (zero)\")"
      ],
      "metadata": {
        "colab": {
          "base_uri": "https://localhost:8080/"
        },
        "id": "Euo-b0e1FMjM",
        "outputId": "04263c81-337b-4643-cf9c-99e34e6be18e"
      },
      "execution_count": null,
      "outputs": [
        {
          "output_type": "stream",
          "name": "stdout",
          "text": [
            "Informe um Número Real:-11\n",
            "O número informado é negativo\n"
          ]
        }
      ]
    },
    {
      "cell_type": "code",
      "source": [
        "'''\n",
        "5. Elabore um algoritmo que leia um número inteiro e imprima uma das mensagens: é múltiplo\n",
        "de 3, ou, não é múltiplo de 3\n",
        "'''\n",
        "n1=int((input(\"Informe um Número Inteiro:\" )))\n",
        "if n1%3==0:\n",
        "    print(\"O número informado é múltiplo de 3\")\n",
        "elif n1%3!=0:\n",
        "    print(\"O número informado não é múltiplo de 3\")"
      ],
      "metadata": {
        "colab": {
          "base_uri": "https://localhost:8080/"
        },
        "id": "SalgZCO3FR7k",
        "outputId": "13120d38-d537-4c6a-ef3a-a435f0c9d33d"
      },
      "execution_count": null,
      "outputs": [
        {
          "output_type": "stream",
          "name": "stdout",
          "text": [
            "Informe um Número Inteiro:3\n",
            "O número informado é múltiplo de 3\n"
          ]
        }
      ]
    },
    {
      "cell_type": "code",
      "source": [
        "'''\n",
        "6. Refazer o exercício anterior, solicitando antes o múltiplo a ser testado\n",
        "'''\n",
        "multiplo=int((input(\"Informe o múltiplo a ser criado:\" )))\n",
        "n1=int((input(\"Informe um número real:\" )))\n",
        "if n1%multiplo==0 or n1%multiplo==multiplo:\n",
        "    print(\"O número informado é múltiplo de \", multiplo)\n",
        "elif n1%multiplo!=0:\n",
        "    print(\"O número informado não é múltiplo de \", multiplo)"
      ],
      "metadata": {
        "colab": {
          "base_uri": "https://localhost:8080/"
        },
        "id": "jtXIbnuDFTUV",
        "outputId": "ff966f7d-fd62-479b-d45d-cabb99c2dfe2"
      },
      "execution_count": null,
      "outputs": [
        {
          "output_type": "stream",
          "name": "stdout",
          "text": [
            "Informe o múltiplo a ser criado:9\n",
            "Informe um número real:81\n",
            "O número informado é múltiplo de  9\n"
          ]
        }
      ]
    },
    {
      "cell_type": "code",
      "source": [
        "'''\n",
        "7. Desenvolva um algoritmo que classifique um número inteiro fornecido pelo usuário como\n",
        "par ou ímpar\n",
        "'''\n",
        "n1=int((input(\"Informe um Número Inteiro:\" )))\n",
        "if n1%2==0:\n",
        "    print(\"O número informado é par\")\n",
        "elif n1%2!=0:\n",
        "    print(\"O número informado é ímpar\")"
      ],
      "metadata": {
        "colab": {
          "base_uri": "https://localhost:8080/"
        },
        "id": "DQ-W_40GFlx9",
        "outputId": "e05520e3-8d90-42f6-d4a1-9c00c75f7a9f"
      },
      "execution_count": null,
      "outputs": [
        {
          "output_type": "stream",
          "name": "stdout",
          "text": [
            "Informe um Número Inteiro:0\n",
            "O número informado é par\n"
          ]
        }
      ]
    },
    {
      "cell_type": "code",
      "source": [
        "'''\n",
        "8. Elabore um algoritmo que leia um número, e se ele for maior do que 20, imprimir a metade\n",
        "desse número, caso contrário, imprimir o dobro do número\n",
        "'''\n",
        "n1=int((input(\"Informe um Número Inteiro:\" )))\n",
        "if n1>20:(print(\"A metade do número informado é: \", n1/2))\n",
        "elif n1<20:(print(\"O dobro do número informado é: \", n1*2))"
      ],
      "metadata": {
        "colab": {
          "base_uri": "https://localhost:8080/"
        },
        "id": "bw8re7SDFnKs",
        "outputId": "0ad31141-0d35-40f9-8e80-98d723cf0407"
      },
      "execution_count": null,
      "outputs": [
        {
          "output_type": "stream",
          "name": "stdout",
          "text": [
            "Informe um Número Inteiro:21\n",
            "A metade do número informado é:  10.5\n"
          ]
        }
      ]
    },
    {
      "cell_type": "code",
      "source": [
        "'''\n",
        "9. Elabore um algoritmo que leia dois números inteiros e realize a adição; caso o resultado\n",
        "seja maior que 10, imprima o quadrado do resultado, caso contrário, imprima a metade dele\n",
        "'''\n",
        "n1=int((input(\"Informe um Número Inteiro:\" )))\n",
        "n2=int((input(\"Informe um Número Inteiro:\" )))\n",
        "if n1+n2>10:\n",
        "   print(\"O quadrado do resultado é: \", (n1+n2)**2)\n",
        "elif n1+n2<10:\n",
        "  print(\"A metade do resultado é: \", (n1+n2)/2)"
      ],
      "metadata": {
        "colab": {
          "base_uri": "https://localhost:8080/"
        },
        "id": "5N_Gew1eFqMs",
        "outputId": "fe9da51e-e262-4317-9cee-dfde3a32dd12"
      },
      "execution_count": null,
      "outputs": [
        {
          "output_type": "stream",
          "name": "stdout",
          "text": [
            "Informe um Número Inteiro:9\n",
            "Informe um Número Inteiro:10\n",
            "O quadrado do resultado é:  361\n"
          ]
        }
      ]
    },
    {
      "cell_type": "code",
      "source": [
        "'''\n",
        "10. O sistema de avaliação de determinada disciplina é composto por três provas. A primeira\n",
        "prova tem peso 2, a segunda tem peso 3 e a terceira tem peso 5. Considerando que a\n",
        "média para aprovação é 6.0, faça um algoritmo para calcular a média final de um aluno\n",
        "desta disciplina e dizer se o aluno foi aprovado ou não\n",
        "'''\n",
        "prova_1=float((input(\"Informe a nota da primeira prova: \")))\n",
        "prova_2=float((input(\"Informe a nota da segunda prova: \")))\n",
        "prova_3=float((input(\"Informe a nota da terceira prova: \")))\n",
        "media=(prova_1*2+prova_2*3+prova_3*5)/10\n",
        "if media>=6:\n",
        "    print(\"O aluno foi aprovado com média \", media)\n",
        "else:\n",
        "    print(\"O aluno foi reprovado com média \", media)"
      ],
      "metadata": {
        "id": "Dub_ldN5Fsec"
      },
      "execution_count": null,
      "outputs": []
    },
    {
      "cell_type": "code",
      "source": [
        "'''\n",
        "11. Elabore um algoritmo que leia o nome e o peso de duas pessoas e imprima o nome da\n",
        "pessoa mais pesada\n",
        "'''\n",
        "nome_1=str((input(\"Informe o nome da primeira pessoa: \")))\n",
        "peso_1=float((input(\"Informe o peso da primeira pessoa: \")))\n",
        "nome_2=str((input(\"Informe o nome da segunda pessoa: \")))\n",
        "peso_2=float((input(\"Informe o peso da segunda pessoa: \")))"
      ],
      "metadata": {
        "id": "ih7K0TVPFw3g"
      },
      "execution_count": null,
      "outputs": []
    },
    {
      "cell_type": "code",
      "source": [
        "'''\n",
        "12. Elabore um algoritmo que indique se um número digitado está compreendido entre 20 e\n",
        "90, ou não\n",
        "'''\n",
        "n1=int((input(\"Informe um Número Inteiro: \")))\n",
        "if n1>=20 and n1<=90:\n",
        "    print(\"O número informado está compreendido entre 20 e 90\")"
      ],
      "metadata": {
        "id": "ZGBDks_WFymk"
      },
      "execution_count": null,
      "outputs": []
    },
    {
      "cell_type": "code",
      "source": [
        "'''\n",
        "13. Elabore um algoritmo que leia dois números e imprima qual é maior, qual é menor, ou se\n",
        "são iguais\n",
        "'''\n",
        "n1=int((input(\"Informe um Número Inteiro: \")))\n",
        "n2=int((input(\"Informe um Número Inteiro: \")))\n",
        "if n1>n2:\n",
        "    print(\"O número \", n1, \" é maior que o número \", n2)"
      ],
      "metadata": {
        "id": "M8Y7Js4nF3G8"
      },
      "execution_count": null,
      "outputs": []
    },
    {
      "cell_type": "code",
      "source": [
        "'''\n",
        "14. Escreva um programa em linguagem C que solicite ao usuário a média para aprovação\n",
        "em um curso e em seguida solicite ao usuário o nome, sexo e as 03 notas do aluno e ao\n",
        "final imprima a frase: \"O aluno XXXXX foi aprovado com media YY\" considerando o gênero\n",
        "do(a) aluno(a) e se foi aprovado(a) ou reprovado(a)\n",
        "'''\n",
        "media_aprovacao=float((input(\"Informe a média para aprovação: \")))\n",
        "nome=str((input(\"Informe o nome do aluno: \")))\n",
        "sexo=str((input(\"Informe o sexo do aluno: \")))\n",
        "nota_1=float((input(\"Informe a nota da primeira prova: \")))\n",
        "nota_2=float((input(\"Informe a nota da segunda prova: \")))\n",
        "nota_3=float((input(\"Informe a nota da terceira prova: \")))\n",
        "media=(nota_1+nota_2+nota_3)/3\n",
        "if media>=media_aprovacao:\n",
        "    print(\"O aluno \", nome, \" foi aprovado com média \", media)"
      ],
      "metadata": {
        "id": "ao9mBJ48F4jc"
      },
      "execution_count": null,
      "outputs": []
    },
    {
      "cell_type": "markdown",
      "source": [
        "**Lista de Exercícios 03 (02/10)**"
      ],
      "metadata": {
        "id": "yfaGUN0c9iCW"
      }
    },
    {
      "cell_type": "code",
      "source": [
        "'''\n",
        "1. Elabore um algoritmo que imprima na tela lado a lado o texto \"Hello World!\" 10 vezes.\n",
        "'''\n",
        "print(\"Hello World! \" * 10)"
      ],
      "metadata": {
        "id": "6GuiC21L9tlm",
        "outputId": "371fe3cc-094a-4714-8bb6-c8343f28a97c",
        "colab": {
          "base_uri": "https://localhost:8080/"
        }
      },
      "execution_count": null,
      "outputs": [
        {
          "output_type": "stream",
          "name": "stdout",
          "text": [
            "Hello World! Hello World! Hello World! Hello World! Hello World! Hello World! Hello World! Hello World! Hello World! Hello World! \n"
          ]
        }
      ]
    },
    {
      "cell_type": "code",
      "source": [
        "'''\n",
        "2. Elabore um algoritmo que imprima na tela o texto \"Hello World!\" 10 vezes, um por linha.\n",
        "'''\n",
        "print(\"Hello World!\\n\" * 10)"
      ],
      "metadata": {
        "id": "fg6YuNMJ9w9u",
        "colab": {
          "base_uri": "https://localhost:8080/"
        },
        "outputId": "f854bb3d-1e77-4426-da1c-d1ed27339e35"
      },
      "execution_count": null,
      "outputs": [
        {
          "output_type": "stream",
          "name": "stdout",
          "text": [
            "Hello World!\n",
            "Hello World!\n",
            "Hello World!\n",
            "Hello World!\n",
            "Hello World!\n",
            "Hello World!\n",
            "Hello World!\n",
            "Hello World!\n",
            "Hello World!\n",
            "Hello World!\n",
            "\n"
          ]
        }
      ]
    },
    {
      "cell_type": "code",
      "source": [
        "'''\n",
        "3. Elabore um algoritmo que imprima todos os números inteiros de 1 até 100 inclusive.\n",
        "'''\n",
        "print(*range(1, 101))\n"
      ],
      "metadata": {
        "id": "n9HUqltg91T3"
      },
      "execution_count": null,
      "outputs": []
    },
    {
      "cell_type": "code",
      "source": [
        "'''\n",
        "4. Elabore um algoritmo que imprima 100 vezes o texto \"1- Hello World!\" com o número.\n",
        "'''\n",
        "for i in range(100): print(f\"{i+1}- Hello World!\")\n"
      ],
      "metadata": {
        "id": "i9VazePK93hf",
        "colab": {
          "base_uri": "https://localhost:8080/"
        },
        "outputId": "2e0a95bd-a660-47b1-c5bc-884d58586686"
      },
      "execution_count": null,
      "outputs": [
        {
          "output_type": "stream",
          "name": "stdout",
          "text": [
            "1- Hello World!\n",
            "2- Hello World!\n",
            "3- Hello World!\n",
            "4- Hello World!\n",
            "5- Hello World!\n",
            "6- Hello World!\n",
            "7- Hello World!\n",
            "8- Hello World!\n",
            "9- Hello World!\n",
            "10- Hello World!\n",
            "11- Hello World!\n",
            "12- Hello World!\n",
            "13- Hello World!\n",
            "14- Hello World!\n",
            "15- Hello World!\n",
            "16- Hello World!\n",
            "17- Hello World!\n",
            "18- Hello World!\n",
            "19- Hello World!\n",
            "20- Hello World!\n",
            "21- Hello World!\n",
            "22- Hello World!\n",
            "23- Hello World!\n",
            "24- Hello World!\n",
            "25- Hello World!\n",
            "26- Hello World!\n",
            "27- Hello World!\n",
            "28- Hello World!\n",
            "29- Hello World!\n",
            "30- Hello World!\n",
            "31- Hello World!\n",
            "32- Hello World!\n",
            "33- Hello World!\n",
            "34- Hello World!\n",
            "35- Hello World!\n",
            "36- Hello World!\n",
            "37- Hello World!\n",
            "38- Hello World!\n",
            "39- Hello World!\n",
            "40- Hello World!\n",
            "41- Hello World!\n",
            "42- Hello World!\n",
            "43- Hello World!\n",
            "44- Hello World!\n",
            "45- Hello World!\n",
            "46- Hello World!\n",
            "47- Hello World!\n",
            "48- Hello World!\n",
            "49- Hello World!\n",
            "50- Hello World!\n",
            "51- Hello World!\n",
            "52- Hello World!\n",
            "53- Hello World!\n",
            "54- Hello World!\n",
            "55- Hello World!\n",
            "56- Hello World!\n",
            "57- Hello World!\n",
            "58- Hello World!\n",
            "59- Hello World!\n",
            "60- Hello World!\n",
            "61- Hello World!\n",
            "62- Hello World!\n",
            "63- Hello World!\n",
            "64- Hello World!\n",
            "65- Hello World!\n",
            "66- Hello World!\n",
            "67- Hello World!\n",
            "68- Hello World!\n",
            "69- Hello World!\n",
            "70- Hello World!\n",
            "71- Hello World!\n",
            "72- Hello World!\n",
            "73- Hello World!\n",
            "74- Hello World!\n",
            "75- Hello World!\n",
            "76- Hello World!\n",
            "77- Hello World!\n",
            "78- Hello World!\n",
            "79- Hello World!\n",
            "80- Hello World!\n",
            "81- Hello World!\n",
            "82- Hello World!\n",
            "83- Hello World!\n",
            "84- Hello World!\n",
            "85- Hello World!\n",
            "86- Hello World!\n",
            "87- Hello World!\n",
            "88- Hello World!\n",
            "89- Hello World!\n",
            "90- Hello World!\n",
            "91- Hello World!\n",
            "92- Hello World!\n",
            "93- Hello World!\n",
            "94- Hello World!\n",
            "95- Hello World!\n",
            "96- Hello World!\n",
            "97- Hello World!\n",
            "98- Hello World!\n",
            "99- Hello World!\n",
            "100- Hello World!\n"
          ]
        }
      ]
    },
    {
      "cell_type": "code",
      "source": [
        "'''\n",
        "5. Elabore um algoritmo que imprima todos os números decrescentes de 100 até 0 inclusive.\n",
        "'''\n",
        "print(*range(100, -1, -1))"
      ],
      "metadata": {
        "id": "HnzuR4DZ95_H",
        "colab": {
          "base_uri": "https://localhost:8080/"
        },
        "outputId": "0cf67ed6-b731-4ba4-ab66-a54c3e03cc30"
      },
      "execution_count": null,
      "outputs": [
        {
          "output_type": "stream",
          "name": "stdout",
          "text": [
            "100 99 98 97 96 95 94 93 92 91 90 89 88 87 86 85 84 83 82 81 80 79 78 77 76 75 74 73 72 71 70 69 68 67 66 65 64 63 62 61 60 59 58 57 56 55 54 53 52 51 50 49 48 47 46 45 44 43 42 41 40 39 38 37 36 35 34 33 32 31 30 29 28 27 26 25 24 23 22 21 20 19 18 17 16 15 14 13 12 11 10 9 8 7 6 5 4 3 2 1 0\n"
          ]
        }
      ]
    },
    {
      "cell_type": "code",
      "source": [
        "'''\n",
        "6. Elabore um algoritmo que imprima todos os números pares inteiros de 1 até 1000.\n",
        "'''\n",
        "print(*range(2, 1001, 2))"
      ],
      "metadata": {
        "id": "qr0buIwz9-Lv",
        "colab": {
          "base_uri": "https://localhost:8080/"
        },
        "outputId": "370f3af8-66ce-473b-f253-46460dc21ea9"
      },
      "execution_count": null,
      "outputs": [
        {
          "output_type": "stream",
          "name": "stdout",
          "text": [
            "2 4 6 8 10 12 14 16 18 20 22 24 26 28 30 32 34 36 38 40 42 44 46 48 50 52 54 56 58 60 62 64 66 68 70 72 74 76 78 80 82 84 86 88 90 92 94 96 98 100 102 104 106 108 110 112 114 116 118 120 122 124 126 128 130 132 134 136 138 140 142 144 146 148 150 152 154 156 158 160 162 164 166 168 170 172 174 176 178 180 182 184 186 188 190 192 194 196 198 200 202 204 206 208 210 212 214 216 218 220 222 224 226 228 230 232 234 236 238 240 242 244 246 248 250 252 254 256 258 260 262 264 266 268 270 272 274 276 278 280 282 284 286 288 290 292 294 296 298 300 302 304 306 308 310 312 314 316 318 320 322 324 326 328 330 332 334 336 338 340 342 344 346 348 350 352 354 356 358 360 362 364 366 368 370 372 374 376 378 380 382 384 386 388 390 392 394 396 398 400 402 404 406 408 410 412 414 416 418 420 422 424 426 428 430 432 434 436 438 440 442 444 446 448 450 452 454 456 458 460 462 464 466 468 470 472 474 476 478 480 482 484 486 488 490 492 494 496 498 500 502 504 506 508 510 512 514 516 518 520 522 524 526 528 530 532 534 536 538 540 542 544 546 548 550 552 554 556 558 560 562 564 566 568 570 572 574 576 578 580 582 584 586 588 590 592 594 596 598 600 602 604 606 608 610 612 614 616 618 620 622 624 626 628 630 632 634 636 638 640 642 644 646 648 650 652 654 656 658 660 662 664 666 668 670 672 674 676 678 680 682 684 686 688 690 692 694 696 698 700 702 704 706 708 710 712 714 716 718 720 722 724 726 728 730 732 734 736 738 740 742 744 746 748 750 752 754 756 758 760 762 764 766 768 770 772 774 776 778 780 782 784 786 788 790 792 794 796 798 800 802 804 806 808 810 812 814 816 818 820 822 824 826 828 830 832 834 836 838 840 842 844 846 848 850 852 854 856 858 860 862 864 866 868 870 872 874 876 878 880 882 884 886 888 890 892 894 896 898 900 902 904 906 908 910 912 914 916 918 920 922 924 926 928 930 932 934 936 938 940 942 944 946 948 950 952 954 956 958 960 962 964 966 968 970 972 974 976 978 980 982 984 986 988 990 992 994 996 998 1000\n"
          ]
        }
      ]
    },
    {
      "cell_type": "code",
      "source": [
        "'''\n",
        "7. Elabore um algoritmo que imprima todos os números ímpares de 1000 até 0.\n",
        "'''\n",
        "print(*range(999, -1, -2))"
      ],
      "metadata": {
        "id": "A5w0gWXG-Cln"
      },
      "execution_count": null,
      "outputs": []
    },
    {
      "cell_type": "code",
      "source": [
        "'''\n",
        "8. Elabore um algoritmo que imprima a soma dos 100 primeiros números inteiros positivos.\n",
        "'''\n",
        "print(sum(range(1, 101)))"
      ],
      "metadata": {
        "id": "SADpAOUB-GT7"
      },
      "execution_count": null,
      "outputs": []
    },
    {
      "cell_type": "code",
      "source": [
        "'''\n",
        "9. Elabore um algoritmo que solicite ao usuário um número inteiro que indicará a quantidade de vezes que o texto \"Hello World!\" será impresso na tela, um em cada linha.\n",
        "'''\n",
        "for _ in range(int(input())): print(\"Hello World!\")"
      ],
      "metadata": {
        "id": "stoG6H1b-JOC"
      },
      "execution_count": null,
      "outputs": []
    },
    {
      "cell_type": "code",
      "source": [
        "'''\n",
        "10. Elabore um algoritmo que solicite ao usuário uma palavra e um número inteiro que indicará a\n",
        "quantidade de vezes que a palavra digitada será impressa na tela, um em cada linha.\n",
        "'''\n",
        "p = input()\n",
        "for _ in range(int(input())): print(p)"
      ],
      "metadata": {
        "id": "LlUlxtT--p64"
      },
      "execution_count": null,
      "outputs": []
    },
    {
      "cell_type": "code",
      "source": [
        "'''\n",
        "11. Elabore um algoritmo que leia um número de entrada que indicará a quantidade de\n",
        "números a serem lidos. Em seguida, leia n números (conforme o valor informado\n",
        "anteriormente) e imprima a soma e a média aritmética dos números informados.\n",
        "'''\n",
        "n = int(input())\n",
        "nums = [int(input()) for _ in range(n)]\n",
        "print(sum(nums), sum(nums)/n)"
      ],
      "metadata": {
        "id": "RR79MprA-3Yq"
      },
      "execution_count": null,
      "outputs": []
    },
    {
      "cell_type": "code",
      "source": [
        "'''\n",
        "12. Elabore um algoritmo que leia um número de entrada que indicará a quantidade de\n",
        "registros a serem lidos (N). Em seguida algoritmo deve solicitar o nome e idade de N\n",
        "pessoas e ao final apresentar o nome da pessoa mais velha.\n",
        "'''\n",
        "n = int(input())\n",
        "pessoas = [input().split() for _ in range(n)]\n",
        "mais_velha = max(pessoas, key=lambda x: int(x[1]))\n",
        "print(mais_velha[0])"
      ],
      "metadata": {
        "id": "mQKUjqAh-5rR"
      },
      "execution_count": null,
      "outputs": []
    },
    {
      "cell_type": "code",
      "source": [
        "'''\n",
        "13. Elabore um algoritmo que leia um número de entrada que indicará a quantidade de\n",
        "registros a serem lidos (N). Em seguida algoritmo deve solicitar o sexo (M/F) e idade de N\n",
        "pessoas e ao final apresentar a média de idade de ambos os gêneros catalogados.\n",
        "'''\n",
        "n = int(input())\n",
        "idades = {'M': [], 'F': []}\n",
        "for _ in range(n):\n",
        "    s, i = input().split()\n",
        "    idades[s].append(int(i))\n",
        "print(sum(idades['M'])/len(idades['M']) if idades['M'] else 0,\n",
        "      sum(idades['F'])/len(idades['F']) if idades['F'] else 0)"
      ],
      "metadata": {
        "id": "b7unbEip-8AZ"
      },
      "execution_count": null,
      "outputs": []
    },
    {
      "cell_type": "code",
      "source": [
        "'''\n",
        "14. Elabore um algoritmo que solicite ao usuário 10 números reais e ao final apresente o\n",
        "maior e o menor deles.\n",
        "'''\n",
        "nums = [float(input()) for _ in range(10)]\n",
        "print(max(nums), min(nums))"
      ],
      "metadata": {
        "id": "TWoBO9ds_BLL"
      },
      "execution_count": null,
      "outputs": []
    },
    {
      "cell_type": "code",
      "source": [
        "'''\n",
        "15. Elabore um algoritmo que solicite N números reais e quando o usuário informar o valor\n",
        "nulo 0 (zero) o programa ordene e mostre todos os números informados de forma crescente.\n",
        "'''\n",
        "nums = []\n",
        "while True:\n",
        "    n = float(input())\n",
        "    if n == 0: break\n",
        "    nums.append(n)\n",
        "print(*sorted(nums))"
      ],
      "metadata": {
        "id": "HnPwy6ZK_IYz"
      },
      "execution_count": null,
      "outputs": []
    },
    {
      "cell_type": "code",
      "source": [
        "'''\n",
        "16. Escreva um programa que vá solicitando as idades dos alunos da sala até que todos\n",
        "sejam informados (perguntar ao usuário se deseja informar a idade do próximo aluno). Ao\n",
        "final apresentar a idade do mais novo, a idade do mais velho, Quantos alunos têm mais de\n",
        "18 anos, quantos alunos têm até 18 anos, a média aritmética e a mediana.\n",
        "'''\n",
        "idades = []\n",
        "while input(\"Informar próximo aluno? (s/n): \").lower() == 's':\n",
        "    idades.append(int(input(\"Idade: \")))\n",
        "idades.sort()\n",
        "print(f\"Mais novo: {idades[0]}, Mais velho: {idades[-1]}\")\n",
        "print(f\"Maiores de 18: {sum(1 for i in idades if i > 18)}\")\n",
        "print(f\"Até 18 anos: {sum(1 for i in idades if i <= 18)}\")\n",
        "print(f\"Média: {sum(idades)/len(idades)}\")\n",
        "meio = len(idades)//2\n",
        "mediana = idades[meio] if len(idades)%2 else (idades[meio-1] + idades[meio])/2\n",
        "print(f\"Mediana: {mediana}\")"
      ],
      "metadata": {
        "id": "a8PXM_3O_Prc"
      },
      "execution_count": null,
      "outputs": []
    }
  ]
}